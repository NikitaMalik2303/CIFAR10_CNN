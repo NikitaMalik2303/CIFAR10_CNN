{
 "cells": [
  {
   "cell_type": "code",
   "execution_count": 1,
   "id": "a1c923c8",
   "metadata": {},
   "outputs": [],
   "source": [
    "import numpy as np\n",
    "import pandas as pd\n",
    "import matplotlib.pyplot as plt\n",
    "import tensorflow as tf\n",
    "import seaborn as sns\n",
    "from tensorflow.keras.layers import *"
   ]
  },
  {
   "cell_type": "code",
   "execution_count": 2,
   "id": "cdb77c53",
   "metadata": {},
   "outputs": [],
   "source": [
    "(x_train, y_train), (x_test, y_test) = tf.keras.datasets.cifar10.load_data()"
   ]
  },
  {
   "cell_type": "code",
   "execution_count": 3,
   "id": "2ad7aae8",
   "metadata": {},
   "outputs": [],
   "source": [
    "y_test = y_test.reshape(-1,)\n",
    "y_train = y_train.reshape(-1,)"
   ]
  },
  {
   "cell_type": "code",
   "execution_count": 4,
   "id": "868086b9",
   "metadata": {},
   "outputs": [
    {
     "data": {
      "text/plain": [
       "(50000, 32, 32, 3)"
      ]
     },
     "execution_count": 4,
     "metadata": {},
     "output_type": "execute_result"
    }
   ],
   "source": [
    "x_train.shape"
   ]
  },
  {
   "cell_type": "code",
   "execution_count": 5,
   "id": "4e702e06",
   "metadata": {},
   "outputs": [
    {
     "data": {
      "text/plain": [
       "(50000,)"
      ]
     },
     "execution_count": 5,
     "metadata": {},
     "output_type": "execute_result"
    }
   ],
   "source": [
    "y_train.shape"
   ]
  },
  {
   "cell_type": "code",
   "execution_count": 6,
   "id": "2920d8bc",
   "metadata": {},
   "outputs": [],
   "source": [
    "x_train = x_train/255\n",
    "x_test = x_test/255"
   ]
  },
  {
   "cell_type": "code",
   "execution_count": 7,
   "id": "a73d77e5",
   "metadata": {},
   "outputs": [],
   "source": [
    "#y_train = tf.keras.utils.to_categorical(y_train)\n",
    "#y_test = tf.keras.utils.to_categorical(y_test)"
   ]
  },
  {
   "cell_type": "code",
   "execution_count": 8,
   "id": "efc56326",
   "metadata": {},
   "outputs": [],
   "source": [
    "train_datagen = tf.keras.preprocessing.image.ImageDataGenerator(\n",
    "    width_shift_range = 0.1,\n",
    "    height_shift_range = 0.1,\n",
    "    horizontal_flip = True)\n",
    "\n",
    "train_set = train_datagen.flow(x_train, y_train, batch_size = 64)"
   ]
  },
  {
   "cell_type": "code",
   "execution_count": 9,
   "id": "d50703b8",
   "metadata": {},
   "outputs": [],
   "source": [
    "cnn = tf.keras.models.Sequential()\n",
    "\n",
    "cnn.add(tf.keras.Input((32,32,3)))\n",
    "\n",
    "cnn.add(Conv2D(filters = 32,\n",
    "              kernel_size = (3,3),\n",
    "              activation = \"relu\",\n",
    "              padding = \"same\"))\n",
    "\n",
    "cnn.add(BatchNormalization())\n",
    "\n",
    "cnn.add(Conv2D(filters = 32,\n",
    "              kernel_size = (3,3),\n",
    "              activation = \"relu\",\n",
    "              padding = \"same\"))\n",
    "\n",
    "cnn.add(BatchNormalization())\n",
    "\n",
    "cnn.add(MaxPooling2D((2,2)))\n",
    "\n",
    "cnn.add(Dropout(0.2))\n",
    "\n",
    "cnn.add(Conv2D(filters = 64,\n",
    "              kernel_size = (3,3),\n",
    "              activation = \"relu\",\n",
    "              padding = \"same\"))\n",
    "\n",
    "cnn.add(BatchNormalization())\n",
    "\n",
    "cnn.add(Conv2D(filters = 64,\n",
    "              kernel_size = (3,3),\n",
    "              activation = \"relu\",\n",
    "              padding = \"same\"))\n",
    "\n",
    "cnn.add(BatchNormalization())\n",
    "\n",
    "cnn.add(MaxPooling2D((2,2)))\n",
    "\n",
    "cnn.add(Dropout(0.2))\n",
    "\n",
    "cnn.add(Conv2D(filters = 128,\n",
    "              kernel_size = (3,3),\n",
    "              activation = \"relu\",\n",
    "              padding = \"same\"))\n",
    "\n",
    "cnn.add(BatchNormalization())\n",
    "\n",
    "cnn.add(Conv2D(filters = 128,\n",
    "              kernel_size = (2,2),\n",
    "              activation = \"relu\",\n",
    "              padding = \"same\"))\n",
    "\n",
    "cnn.add(BatchNormalization())\n",
    "\n",
    "cnn.add(MaxPooling2D((2,2)))\n",
    "\n",
    "cnn.add(Dropout(0.2))\n",
    "\n",
    "cnn.add(Flatten())\n",
    "\n",
    "cnn.add(Dense(units = 128,\n",
    "             activation = \"relu\"))\n",
    "\n",
    "cnn.add(BatchNormalization())\n",
    "\n",
    "cnn.add(Dropout(0.2))\n",
    "\n",
    "cnn.add(Dense(units = 10,\n",
    "             activation = \"softmax\"))\n"
   ]
  },
  {
   "cell_type": "code",
   "execution_count": 10,
   "id": "2099ac0e",
   "metadata": {},
   "outputs": [
    {
     "name": "stdout",
     "output_type": "stream",
     "text": [
      "Epoch 1/100\n",
      "781/781 [==============================] - 140s 176ms/step - loss: 1.5190 - accuracy: 0.4637 - val_loss: 1.1373 - val_accuracy: 0.5916\n",
      "Epoch 2/100\n",
      "781/781 [==============================] - 139s 178ms/step - loss: 1.0475 - accuracy: 0.6260 - val_loss: 0.8478 - val_accuracy: 0.6993\n",
      "Epoch 3/100\n",
      "781/781 [==============================] - 138s 177ms/step - loss: 0.8937 - accuracy: 0.6865 - val_loss: 0.9978 - val_accuracy: 0.6682\n",
      "Epoch 4/100\n",
      "781/781 [==============================] - 140s 179ms/step - loss: 0.8139 - accuracy: 0.7147 - val_loss: 0.6902 - val_accuracy: 0.7661\n",
      "Epoch 5/100\n",
      "781/781 [==============================] - 146s 187ms/step - loss: 0.7389 - accuracy: 0.7401 - val_loss: 0.8869 - val_accuracy: 0.6999\n",
      "Epoch 6/100\n",
      "781/781 [==============================] - 145s 186ms/step - loss: 0.6865 - accuracy: 0.7619 - val_loss: 0.7962 - val_accuracy: 0.7298\n",
      "Epoch 7/100\n",
      "781/781 [==============================] - 140s 180ms/step - loss: 0.6501 - accuracy: 0.7749 - val_loss: 0.7281 - val_accuracy: 0.7504\n",
      "Epoch 8/100\n",
      "781/781 [==============================] - 143s 183ms/step - loss: 0.6178 - accuracy: 0.7850 - val_loss: 0.5472 - val_accuracy: 0.8152\n",
      "Epoch 9/100\n",
      "781/781 [==============================] - 146s 187ms/step - loss: 0.5919 - accuracy: 0.7962 - val_loss: 0.6511 - val_accuracy: 0.7824\n",
      "Epoch 10/100\n",
      "781/781 [==============================] - 141s 181ms/step - loss: 0.5608 - accuracy: 0.8049 - val_loss: 0.5652 - val_accuracy: 0.8057\n",
      "Epoch 11/100\n",
      "781/781 [==============================] - 140s 180ms/step - loss: 0.5485 - accuracy: 0.8110 - val_loss: 0.4978 - val_accuracy: 0.8316\n",
      "Epoch 12/100\n",
      "781/781 [==============================] - 141s 180ms/step - loss: 0.5271 - accuracy: 0.8171 - val_loss: 0.5720 - val_accuracy: 0.8063\n",
      "Epoch 13/100\n",
      "781/781 [==============================] - 141s 181ms/step - loss: 0.5103 - accuracy: 0.8228 - val_loss: 0.5380 - val_accuracy: 0.8162\n",
      "Epoch 14/100\n",
      "781/781 [==============================] - 142s 182ms/step - loss: 0.4973 - accuracy: 0.8282 - val_loss: 0.4817 - val_accuracy: 0.8360\n",
      "Epoch 15/100\n",
      "781/781 [==============================] - 147s 189ms/step - loss: 0.4805 - accuracy: 0.8345 - val_loss: 0.4679 - val_accuracy: 0.8429\n",
      "Epoch 16/100\n",
      "781/781 [==============================] - 147s 188ms/step - loss: 0.4684 - accuracy: 0.8378 - val_loss: 0.5189 - val_accuracy: 0.8291\n",
      "Epoch 17/100\n",
      "781/781 [==============================] - 145s 186ms/step - loss: 0.4645 - accuracy: 0.8400 - val_loss: 0.4958 - val_accuracy: 0.8314\n",
      "Epoch 18/100\n",
      "781/781 [==============================] - 146s 187ms/step - loss: 0.4518 - accuracy: 0.8425 - val_loss: 0.4395 - val_accuracy: 0.8527\n",
      "Epoch 19/100\n",
      "781/781 [==============================] - 145s 185ms/step - loss: 0.4397 - accuracy: 0.8469 - val_loss: 0.4755 - val_accuracy: 0.8443\n",
      "Epoch 20/100\n",
      "781/781 [==============================] - 145s 186ms/step - loss: 0.4283 - accuracy: 0.8522 - val_loss: 0.4324 - val_accuracy: 0.8548\n",
      "Epoch 21/100\n",
      "781/781 [==============================] - 144s 185ms/step - loss: 0.4249 - accuracy: 0.8535 - val_loss: 0.4388 - val_accuracy: 0.8534\n",
      "Epoch 22/100\n",
      "781/781 [==============================] - 145s 186ms/step - loss: 0.4202 - accuracy: 0.8553 - val_loss: 0.5141 - val_accuracy: 0.8308\n",
      "Epoch 23/100\n",
      "781/781 [==============================] - 144s 185ms/step - loss: 0.4128 - accuracy: 0.8566 - val_loss: 0.4227 - val_accuracy: 0.8573\n",
      "Epoch 24/100\n",
      "781/781 [==============================] - 145s 185ms/step - loss: 0.4030 - accuracy: 0.8608 - val_loss: 0.4328 - val_accuracy: 0.8558\n",
      "Epoch 25/100\n",
      "781/781 [==============================] - 145s 185ms/step - loss: 0.3931 - accuracy: 0.8632 - val_loss: 0.4341 - val_accuracy: 0.8546\n",
      "Epoch 26/100\n",
      "781/781 [==============================] - 145s 186ms/step - loss: 0.3922 - accuracy: 0.8629 - val_loss: 0.3929 - val_accuracy: 0.8662\n",
      "Epoch 27/100\n",
      "781/781 [==============================] - 145s 186ms/step - loss: 0.3885 - accuracy: 0.8660 - val_loss: 0.4282 - val_accuracy: 0.8598\n",
      "Epoch 28/100\n",
      "781/781 [==============================] - 145s 185ms/step - loss: 0.3767 - accuracy: 0.8690 - val_loss: 0.3920 - val_accuracy: 0.8707\n",
      "Epoch 29/100\n",
      "781/781 [==============================] - 145s 186ms/step - loss: 0.3759 - accuracy: 0.8689 - val_loss: 0.4937 - val_accuracy: 0.8330\n",
      "Epoch 30/100\n",
      "781/781 [==============================] - 144s 185ms/step - loss: 0.3698 - accuracy: 0.8708 - val_loss: 0.4259 - val_accuracy: 0.8580\n",
      "Epoch 31/100\n",
      "781/781 [==============================] - 145s 185ms/step - loss: 0.3646 - accuracy: 0.8746 - val_loss: 0.3838 - val_accuracy: 0.8716\n",
      "Epoch 32/100\n",
      "781/781 [==============================] - 145s 185ms/step - loss: 0.3613 - accuracy: 0.8744 - val_loss: 0.3750 - val_accuracy: 0.8734\n",
      "Epoch 33/100\n",
      "781/781 [==============================] - 144s 185ms/step - loss: 0.3562 - accuracy: 0.8760 - val_loss: 0.3732 - val_accuracy: 0.8763\n",
      "Epoch 34/100\n",
      "781/781 [==============================] - 145s 185ms/step - loss: 0.3483 - accuracy: 0.8771 - val_loss: 0.3823 - val_accuracy: 0.8745\n",
      "Epoch 35/100\n",
      "781/781 [==============================] - 145s 186ms/step - loss: 0.3538 - accuracy: 0.8769 - val_loss: 0.3683 - val_accuracy: 0.8803\n",
      "Epoch 36/100\n",
      "781/781 [==============================] - 144s 185ms/step - loss: 0.3431 - accuracy: 0.8807 - val_loss: 0.3827 - val_accuracy: 0.8728\n",
      "Epoch 37/100\n",
      "781/781 [==============================] - 144s 185ms/step - loss: 0.3386 - accuracy: 0.8812 - val_loss: 0.4177 - val_accuracy: 0.8623\n",
      "Epoch 38/100\n",
      "781/781 [==============================] - 144s 184ms/step - loss: 0.3409 - accuracy: 0.8814 - val_loss: 0.3930 - val_accuracy: 0.8714\n",
      "Epoch 39/100\n",
      "781/781 [==============================] - 144s 184ms/step - loss: 0.3318 - accuracy: 0.8840 - val_loss: 0.4138 - val_accuracy: 0.8683\n",
      "Epoch 40/100\n",
      "781/781 [==============================] - 144s 184ms/step - loss: 0.3291 - accuracy: 0.8850 - val_loss: 0.3927 - val_accuracy: 0.8730\n",
      "Epoch 41/100\n",
      "781/781 [==============================] - 144s 185ms/step - loss: 0.3258 - accuracy: 0.8872 - val_loss: 0.3646 - val_accuracy: 0.8779\n",
      "Epoch 42/100\n",
      "781/781 [==============================] - 143s 183ms/step - loss: 0.3245 - accuracy: 0.8884 - val_loss: 0.3818 - val_accuracy: 0.8765\n",
      "Epoch 43/100\n",
      "781/781 [==============================] - 143s 183ms/step - loss: 0.3264 - accuracy: 0.8855 - val_loss: 0.3817 - val_accuracy: 0.8752\n",
      "Epoch 44/100\n",
      "781/781 [==============================] - 143s 183ms/step - loss: 0.3165 - accuracy: 0.8896 - val_loss: 0.3934 - val_accuracy: 0.8724\n",
      "Epoch 45/100\n",
      "781/781 [==============================] - 143s 183ms/step - loss: 0.3179 - accuracy: 0.8895 - val_loss: 0.3647 - val_accuracy: 0.8820\n",
      "Epoch 46/100\n",
      "781/781 [==============================] - 143s 183ms/step - loss: 0.3158 - accuracy: 0.8899 - val_loss: 0.3743 - val_accuracy: 0.8775\n",
      "Epoch 47/100\n",
      "781/781 [==============================] - 143s 183ms/step - loss: 0.3161 - accuracy: 0.8891 - val_loss: 0.3953 - val_accuracy: 0.8743\n",
      "Epoch 48/100\n",
      "781/781 [==============================] - 143s 183ms/step - loss: 0.3110 - accuracy: 0.8935 - val_loss: 0.3456 - val_accuracy: 0.8850\n",
      "Epoch 49/100\n",
      "781/781 [==============================] - 142s 182ms/step - loss: 0.3090 - accuracy: 0.8919 - val_loss: 0.3681 - val_accuracy: 0.8815\n",
      "Epoch 50/100\n",
      "781/781 [==============================] - 142s 182ms/step - loss: 0.3079 - accuracy: 0.8923 - val_loss: 0.3805 - val_accuracy: 0.8742\n",
      "Epoch 51/100\n",
      "781/781 [==============================] - 143s 184ms/step - loss: 0.3041 - accuracy: 0.8927 - val_loss: 0.3640 - val_accuracy: 0.8836\n",
      "Epoch 52/100\n",
      "781/781 [==============================] - 143s 184ms/step - loss: 0.2969 - accuracy: 0.8966 - val_loss: 0.3700 - val_accuracy: 0.8763\n",
      "Epoch 53/100\n",
      "781/781 [==============================] - 144s 184ms/step - loss: 0.2966 - accuracy: 0.8960 - val_loss: 0.3725 - val_accuracy: 0.8817\n",
      "Epoch 54/100\n",
      "781/781 [==============================] - 144s 185ms/step - loss: 0.2946 - accuracy: 0.8965 - val_loss: 0.4192 - val_accuracy: 0.8663\n",
      "Epoch 55/100\n",
      "781/781 [==============================] - 143s 183ms/step - loss: 0.3025 - accuracy: 0.8940 - val_loss: 0.3611 - val_accuracy: 0.8826\n",
      "Epoch 56/100\n"
     ]
    },
    {
     "name": "stdout",
     "output_type": "stream",
     "text": [
      "781/781 [==============================] - 140s 179ms/step - loss: 0.2906 - accuracy: 0.8980 - val_loss: 0.3767 - val_accuracy: 0.8830\n",
      "Epoch 57/100\n",
      "781/781 [==============================] - 140s 179ms/step - loss: 0.2962 - accuracy: 0.8971 - val_loss: 0.3337 - val_accuracy: 0.8913\n",
      "Epoch 58/100\n",
      "781/781 [==============================] - 139s 179ms/step - loss: 0.2914 - accuracy: 0.8975 - val_loss: 0.3663 - val_accuracy: 0.8811\n",
      "Epoch 59/100\n",
      "781/781 [==============================] - 140s 179ms/step - loss: 0.2859 - accuracy: 0.9002 - val_loss: 0.4321 - val_accuracy: 0.8615\n",
      "Epoch 60/100\n",
      "781/781 [==============================] - 141s 181ms/step - loss: 0.2846 - accuracy: 0.8991 - val_loss: 0.4315 - val_accuracy: 0.8642\n",
      "Epoch 61/100\n",
      "781/781 [==============================] - 140s 179ms/step - loss: 0.2779 - accuracy: 0.9021 - val_loss: 0.3293 - val_accuracy: 0.8922\n",
      "Epoch 62/100\n",
      "781/781 [==============================] - 141s 180ms/step - loss: 0.2809 - accuracy: 0.9020 - val_loss: 0.3765 - val_accuracy: 0.8771\n",
      "Epoch 63/100\n",
      "781/781 [==============================] - 140s 180ms/step - loss: 0.2764 - accuracy: 0.9024 - val_loss: 0.3413 - val_accuracy: 0.8899\n",
      "Epoch 64/100\n",
      "781/781 [==============================] - 140s 179ms/step - loss: 0.2824 - accuracy: 0.9017 - val_loss: 0.3569 - val_accuracy: 0.8846\n",
      "Epoch 65/100\n",
      "781/781 [==============================] - 140s 179ms/step - loss: 0.2767 - accuracy: 0.9038 - val_loss: 0.3706 - val_accuracy: 0.8831\n",
      "Epoch 66/100\n",
      "781/781 [==============================] - 142s 182ms/step - loss: 0.2715 - accuracy: 0.9062 - val_loss: 0.3564 - val_accuracy: 0.8844\n",
      "Epoch 67/100\n",
      "781/781 [==============================] - 142s 181ms/step - loss: 0.2732 - accuracy: 0.9042 - val_loss: 0.3631 - val_accuracy: 0.8826\n",
      "Epoch 68/100\n",
      "781/781 [==============================] - 141s 180ms/step - loss: 0.2701 - accuracy: 0.9060 - val_loss: 0.3768 - val_accuracy: 0.8809\n",
      "Epoch 69/100\n",
      "781/781 [==============================] - 141s 180ms/step - loss: 0.2708 - accuracy: 0.9054 - val_loss: 0.3568 - val_accuracy: 0.8859\n",
      "Epoch 70/100\n",
      "781/781 [==============================] - 141s 181ms/step - loss: 0.2665 - accuracy: 0.9059 - val_loss: 0.3531 - val_accuracy: 0.8866\n",
      "Epoch 71/100\n",
      "781/781 [==============================] - 141s 181ms/step - loss: 0.2699 - accuracy: 0.9051 - val_loss: 0.3438 - val_accuracy: 0.8876\n",
      "Epoch 72/100\n",
      "781/781 [==============================] - 142s 182ms/step - loss: 0.2648 - accuracy: 0.9080 - val_loss: 0.3592 - val_accuracy: 0.8849\n",
      "Epoch 73/100\n",
      "781/781 [==============================] - 142s 182ms/step - loss: 0.2603 - accuracy: 0.9078 - val_loss: 0.3357 - val_accuracy: 0.8935\n",
      "Epoch 74/100\n",
      "781/781 [==============================] - 141s 181ms/step - loss: 0.2636 - accuracy: 0.9079 - val_loss: 0.3941 - val_accuracy: 0.8749\n",
      "Epoch 75/100\n",
      "781/781 [==============================] - 142s 181ms/step - loss: 0.2614 - accuracy: 0.9087 - val_loss: 0.3545 - val_accuracy: 0.8878\n",
      "Epoch 76/100\n",
      "781/781 [==============================] - 141s 180ms/step - loss: 0.2581 - accuracy: 0.9110 - val_loss: 0.3427 - val_accuracy: 0.8886\n",
      "Epoch 77/100\n",
      "781/781 [==============================] - 141s 180ms/step - loss: 0.2582 - accuracy: 0.9102 - val_loss: 0.3516 - val_accuracy: 0.8854\n",
      "Epoch 78/100\n",
      "781/781 [==============================] - 141s 181ms/step - loss: 0.2557 - accuracy: 0.9110 - val_loss: 0.3455 - val_accuracy: 0.8863\n",
      "Epoch 79/100\n",
      "781/781 [==============================] - 142s 182ms/step - loss: 0.2544 - accuracy: 0.9120 - val_loss: 0.3429 - val_accuracy: 0.8899\n",
      "Epoch 80/100\n",
      "781/781 [==============================] - 141s 181ms/step - loss: 0.2546 - accuracy: 0.9103 - val_loss: 0.3278 - val_accuracy: 0.8936\n",
      "Epoch 81/100\n",
      "781/781 [==============================] - 141s 180ms/step - loss: 0.2510 - accuracy: 0.9120 - val_loss: 0.3197 - val_accuracy: 0.8973\n",
      "Epoch 82/100\n",
      "781/781 [==============================] - 142s 181ms/step - loss: 0.2532 - accuracy: 0.9117 - val_loss: 0.3391 - val_accuracy: 0.8923\n",
      "Epoch 83/100\n",
      "781/781 [==============================] - 146s 187ms/step - loss: 0.2512 - accuracy: 0.9115 - val_loss: 0.3602 - val_accuracy: 0.8874\n",
      "Epoch 84/100\n",
      "781/781 [==============================] - 142s 182ms/step - loss: 0.2475 - accuracy: 0.9116 - val_loss: 0.3371 - val_accuracy: 0.8931\n",
      "Epoch 85/100\n",
      "781/781 [==============================] - 141s 181ms/step - loss: 0.2422 - accuracy: 0.9148 - val_loss: 0.3405 - val_accuracy: 0.8954\n",
      "Epoch 86/100\n",
      "781/781 [==============================] - 140s 180ms/step - loss: 0.2467 - accuracy: 0.9125 - val_loss: 0.3775 - val_accuracy: 0.8831\n",
      "Epoch 87/100\n",
      "781/781 [==============================] - 141s 180ms/step - loss: 0.2448 - accuracy: 0.9140 - val_loss: 0.3557 - val_accuracy: 0.8857\n",
      "Epoch 88/100\n",
      "781/781 [==============================] - 140s 180ms/step - loss: 0.2475 - accuracy: 0.9132 - val_loss: 0.3355 - val_accuracy: 0.8925\n",
      "Epoch 89/100\n",
      "781/781 [==============================] - 142s 181ms/step - loss: 0.2425 - accuracy: 0.9146 - val_loss: 0.3364 - val_accuracy: 0.8933\n",
      "Epoch 90/100\n",
      "781/781 [==============================] - 142s 182ms/step - loss: 0.2416 - accuracy: 0.9148 - val_loss: 0.3664 - val_accuracy: 0.8832\n",
      "Epoch 91/100\n",
      "781/781 [==============================] - 144s 184ms/step - loss: 0.2454 - accuracy: 0.9133 - val_loss: 0.3764 - val_accuracy: 0.8827\n",
      "Epoch 92/100\n",
      "781/781 [==============================] - 143s 183ms/step - loss: 0.2429 - accuracy: 0.9147 - val_loss: 0.3358 - val_accuracy: 0.8959\n",
      "Epoch 93/100\n",
      "781/781 [==============================] - 146s 187ms/step - loss: 0.2380 - accuracy: 0.9157 - val_loss: 0.3537 - val_accuracy: 0.8874\n",
      "Epoch 94/100\n",
      "781/781 [==============================] - 141s 180ms/step - loss: 0.2442 - accuracy: 0.9141 - val_loss: 0.3327 - val_accuracy: 0.8944\n",
      "Epoch 95/100\n",
      "781/781 [==============================] - 145s 186ms/step - loss: 0.2337 - accuracy: 0.9174 - val_loss: 0.3309 - val_accuracy: 0.8956\n",
      "Epoch 96/100\n",
      "781/781 [==============================] - 150s 192ms/step - loss: 0.2333 - accuracy: 0.9180 - val_loss: 0.3417 - val_accuracy: 0.8939\n",
      "Epoch 97/100\n",
      "781/781 [==============================] - 145s 186ms/step - loss: 0.2313 - accuracy: 0.9180 - val_loss: 0.3332 - val_accuracy: 0.8950\n",
      "Epoch 98/100\n",
      "781/781 [==============================] - 148s 189ms/step - loss: 0.2358 - accuracy: 0.9169 - val_loss: 0.3142 - val_accuracy: 0.9004\n",
      "Epoch 99/100\n",
      "781/781 [==============================] - 148s 189ms/step - loss: 0.2356 - accuracy: 0.9170 - val_loss: 0.3452 - val_accuracy: 0.8923\n",
      "Epoch 100/100\n",
      "781/781 [==============================] - 155s 199ms/step - loss: 0.2311 - accuracy: 0.9181 - val_loss: 0.3621 - val_accuracy: 0.8874\n"
     ]
    }
   ],
   "source": [
    "cnn.compile(optimizer = \"adam\", loss = \"sparse_categorical_crossentropy\", metrics = [\"accuracy\"])\n",
    "\n",
    "history = cnn.fit(x = train_set, epochs = 100, steps_per_epoch = int(x_train.shape[0]/64), validation_data = (x_test,y_test))"
   ]
  },
  {
   "cell_type": "code",
   "execution_count": 11,
   "id": "3bf2912a",
   "metadata": {},
   "outputs": [
    {
     "name": "stdout",
     "output_type": "stream",
     "text": [
      "Model: \"sequential\"\n",
      "_________________________________________________________________\n",
      " Layer (type)                Output Shape              Param #   \n",
      "=================================================================\n",
      " conv2d (Conv2D)             (None, 32, 32, 32)        896       \n",
      "                                                                 \n",
      " batch_normalization (BatchN  (None, 32, 32, 32)       128       \n",
      " ormalization)                                                   \n",
      "                                                                 \n",
      " conv2d_1 (Conv2D)           (None, 32, 32, 32)        9248      \n",
      "                                                                 \n",
      " batch_normalization_1 (Batc  (None, 32, 32, 32)       128       \n",
      " hNormalization)                                                 \n",
      "                                                                 \n",
      " max_pooling2d (MaxPooling2D  (None, 16, 16, 32)       0         \n",
      " )                                                               \n",
      "                                                                 \n",
      " dropout (Dropout)           (None, 16, 16, 32)        0         \n",
      "                                                                 \n",
      " conv2d_2 (Conv2D)           (None, 16, 16, 64)        18496     \n",
      "                                                                 \n",
      " batch_normalization_2 (Batc  (None, 16, 16, 64)       256       \n",
      " hNormalization)                                                 \n",
      "                                                                 \n",
      " conv2d_3 (Conv2D)           (None, 16, 16, 64)        36928     \n",
      "                                                                 \n",
      " batch_normalization_3 (Batc  (None, 16, 16, 64)       256       \n",
      " hNormalization)                                                 \n",
      "                                                                 \n",
      " max_pooling2d_1 (MaxPooling  (None, 8, 8, 64)         0         \n",
      " 2D)                                                             \n",
      "                                                                 \n",
      " dropout_1 (Dropout)         (None, 8, 8, 64)          0         \n",
      "                                                                 \n",
      " conv2d_4 (Conv2D)           (None, 8, 8, 128)         73856     \n",
      "                                                                 \n",
      " batch_normalization_4 (Batc  (None, 8, 8, 128)        512       \n",
      " hNormalization)                                                 \n",
      "                                                                 \n",
      " conv2d_5 (Conv2D)           (None, 8, 8, 128)         65664     \n",
      "                                                                 \n",
      " batch_normalization_5 (Batc  (None, 8, 8, 128)        512       \n",
      " hNormalization)                                                 \n",
      "                                                                 \n",
      " max_pooling2d_2 (MaxPooling  (None, 4, 4, 128)        0         \n",
      " 2D)                                                             \n",
      "                                                                 \n",
      " dropout_2 (Dropout)         (None, 4, 4, 128)         0         \n",
      "                                                                 \n",
      " flatten (Flatten)           (None, 2048)              0         \n",
      "                                                                 \n",
      " dense (Dense)               (None, 128)               262272    \n",
      "                                                                 \n",
      " batch_normalization_6 (Batc  (None, 128)              512       \n",
      " hNormalization)                                                 \n",
      "                                                                 \n",
      " dropout_3 (Dropout)         (None, 128)               0         \n",
      "                                                                 \n",
      " dense_1 (Dense)             (None, 10)                1290      \n",
      "                                                                 \n",
      "=================================================================\n",
      "Total params: 470,954\n",
      "Trainable params: 469,802\n",
      "Non-trainable params: 1,152\n",
      "_________________________________________________________________\n"
     ]
    }
   ],
   "source": [
    "cnn.summary()"
   ]
  },
  {
   "cell_type": "code",
   "execution_count": 12,
   "id": "e5cecd94",
   "metadata": {},
   "outputs": [
    {
     "data": {
      "text/plain": [
       "<matplotlib.legend.Legend at 0x220b36d45e0>"
      ]
     },
     "execution_count": 12,
     "metadata": {},
     "output_type": "execute_result"
    },
    {
     "data": {
      "image/png": "[encoded data removed]",
      "text/plain": [
       "<Figure size 640x480 with 1 Axes>"
      ]
     },
     "metadata": {},
     "output_type": "display_data"
    }
   ],
   "source": [
    "ta = history.history[\"accuracy\"]\n",
    "va = history.history[\"val_accuracy\"]\n",
    "\n",
    "plt.plot(ta, \"blue\" , label = \"train set\")\n",
    "plt.plot(va, \"red\", label = \"validation set\")\n",
    "plt.title(\"Comparison of accuracy in training and validation set\")\n",
    "plt.xlabel(\"epochs\")\n",
    "plt.ylabel(\"Accuracy\")\n",
    "plt.legend()"
   ]
  },
  {
   "cell_type": "code",
   "execution_count": 15,
   "id": "5a51f223",
   "metadata": {},
   "outputs": [
    {
     "data": {
      "text/plain": [
       "<matplotlib.legend.Legend at 0x220b3a89370>"
      ]
     },
     "execution_count": 15,
     "metadata": {},
     "output_type": "execute_result"
    },
    {
     "data": {
      "image/png": "[encoded data removed]",
      "text/plain": [
       "<Figure size 640x480 with 1 Axes>"
      ]
     },
     "metadata": {},
     "output_type": "display_data"
    }
   ],
   "source": [
    "tl = history.history[\"loss\"]\n",
    "vl = history.history[\"val_loss\"]\n",
    "\n",
    "plt.plot(tl, \"blue\" , label = \"train set\")\n",
    "plt.plot(vl, \"red\", label = \"val set\")\n",
    "plt.title(\"Comparison of loss in training set and validation set\")\n",
    "plt.xlabel(\"epochs\")\n",
    "plt.ylabel(\"Loss\")\n",
    "plt.legend()"
   ]
  },
  {
   "cell_type": "code",
   "execution_count": null,
   "id": "fc9303f9",
   "metadata": {},
   "outputs": [],
   "source": [
    "model.evaluate(x_test, y_test)"
   ]
  }
 ],
 "metadata": {
  "kernelspec": {
   "display_name": "Python 3 (ipykernel)",
   "language": "python",
   "name": "python3"
  },
  "language_info": {
   "codemirror_mode": {
    "name": "ipython",
    "version": 3
   },
   "file_extension": ".py",
   "mimetype": "text/x-python",
   "name": "python",
   "nbconvert_exporter": "python",
   "pygments_lexer": "ipython3",
   "version": "3.9.13"
  }
 },
 "nbformat": 4,
 "nbformat_minor": 5
}
