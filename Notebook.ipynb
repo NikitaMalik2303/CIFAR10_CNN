{
 "cells": [
  {
   "cell_type": "code",
   "execution_count": 1,
   "id": "7fe76b29",
   "metadata": {},
   "outputs": [],
   "source": [
    "import numpy as np\n",
    "import pandas as pd\n",
    "import matplotlib.pyplot as plt\n",
    "import tensorflow as tf\n",
    "import seaborn as sns\n",
    "from tensorflow.keras.layers import *"
   ]
  },
  {
   "cell_type": "code",
   "execution_count": 2,
   "id": "19afbaf8",
   "metadata": {},
   "outputs": [],
   "source": [
    "(x_train, y_train), (x_test, y_test) = tf.keras.datasets.cifar10.load_data()"
   ]
  },
  {
   "cell_type": "code",
   "execution_count": 3,
   "id": "4c3306d6",
   "metadata": {},
   "outputs": [],
   "source": [
    "y_test = y_test.reshape(-1,)\n",
    "y_train = y_train.reshape(-1,)"
   ]
  },
  {
   "cell_type": "code",
   "execution_count": 4,
   "id": "483b382a",
   "metadata": {},
   "outputs": [
    {
     "data": {
      "text/plain": [
       "(50000, 32, 32, 3)"
      ]
     },
     "execution_count": 4,
     "metadata": {},
     "output_type": "execute_result"
    }
   ],
   "source": [
    "x_train.shape"
   ]
  },
  {
   "cell_type": "code",
   "execution_count": 5,
   "id": "39a31038",
   "metadata": {},
   "outputs": [
    {
     "data": {
      "text/plain": [
       "(50000,)"
      ]
     },
     "execution_count": 5,
     "metadata": {},
     "output_type": "execute_result"
    }
   ],
   "source": [
    "y_train.shape"
   ]
  },
  {
   "cell_type": "code",
   "execution_count": 6,
   "id": "f949982c",
   "metadata": {},
   "outputs": [],
   "source": [
    "x_train = x_train/255\n",
    "y_test = y_test/255"
   ]
  },
  {
   "cell_type": "code",
   "execution_count": 7,
   "id": "9268ffe1",
   "metadata": {},
   "outputs": [],
   "source": [
    "#y_train = tf.keras.utils.to_categorical(y_train)\n",
    "#y_test = tf.keras.utils.to_categorical(y_test)"
   ]
  },
  {
   "cell_type": "code",
   "execution_count": 8,
   "id": "3a3a63e1",
   "metadata": {},
   "outputs": [],
   "source": [
    "train_datagen = tf.keras.preprocessing.image.ImageDataGenerator(\n",
    "    width_shift_range = 0.1,\n",
    "    height_shift_range = 0.1,\n",
    "    horizontal_flip = True)\n",
    "\n",
    "train_set = train_datagen.flow(x_train, y_train, batch_size = 64)"
   ]
  },
  {
   "cell_type": "code",
   "execution_count": 1,
   "id": "53719677",
   "metadata": {},
   "outputs": [
    {
     "ename": "NameError",
     "evalue": "name 'tf' is not defined",
     "output_type": "error",
     "traceback": [
      "\u001b[1;31m---------------------------------------------------------------------------\u001b[0m",
      "\u001b[1;31mNameError\u001b[0m                                 Traceback (most recent call last)",
      "\u001b[1;32m~\\AppData\\Local\\Temp\\ipykernel_24960\\2203889617.py\u001b[0m in \u001b[0;36m<module>\u001b[1;34m\u001b[0m\n\u001b[1;32m----> 1\u001b[1;33m \u001b[0mcnn\u001b[0m \u001b[1;33m=\u001b[0m \u001b[0mtf\u001b[0m\u001b[1;33m.\u001b[0m\u001b[0mkeras\u001b[0m\u001b[1;33m.\u001b[0m\u001b[0mmodels\u001b[0m\u001b[1;33m.\u001b[0m\u001b[0mSequential\u001b[0m\u001b[1;33m(\u001b[0m\u001b[1;33m)\u001b[0m\u001b[1;33m\u001b[0m\u001b[1;33m\u001b[0m\u001b[0m\n\u001b[0m\u001b[0;32m      2\u001b[0m \u001b[1;33m\u001b[0m\u001b[0m\n\u001b[0;32m      3\u001b[0m \u001b[0mcnn\u001b[0m\u001b[1;33m.\u001b[0m\u001b[0madd\u001b[0m\u001b[1;33m(\u001b[0m\u001b[0mtf\u001b[0m\u001b[1;33m.\u001b[0m\u001b[0mkeras\u001b[0m\u001b[1;33m.\u001b[0m\u001b[0mInput\u001b[0m\u001b[1;33m(\u001b[0m\u001b[1;33m(\u001b[0m\u001b[1;36m32\u001b[0m\u001b[1;33m,\u001b[0m\u001b[1;36m32\u001b[0m\u001b[1;33m,\u001b[0m\u001b[1;36m3\u001b[0m\u001b[1;33m)\u001b[0m\u001b[1;33m)\u001b[0m\u001b[1;33m)\u001b[0m\u001b[1;33m\u001b[0m\u001b[1;33m\u001b[0m\u001b[0m\n\u001b[0;32m      4\u001b[0m \u001b[1;33m\u001b[0m\u001b[0m\n\u001b[0;32m      5\u001b[0m cnn.add(Conv2D(filters = 32,\n",
      "\u001b[1;31mNameError\u001b[0m: name 'tf' is not defined"
     ]
    }
   ],
   "source": [
    "cnn = tf.keras.models.Sequential()\n",
    "\n",
    "cnn.add(tf.keras.Input((32,32,3)))\n",
    "\n",
    "cnn.add(Conv2D(filters = 32,\n",
    "              kernel_size = (3,3),\n",
    "              activation = \"relu\",\n",
    "              padding = \"same\"))\n",
    "\n",
    "cnn.add(BatchNormalization())\n",
    "\n",
    "cnn.add(Conv2D(filters = 32,\n",
    "              kernel_size = (3,3),\n",
    "              activation = \"relu\",\n",
    "              padding = \"same\"))\n",
    "\n",
    "cnn.add(BatchNormalization())\n",
    "\n",
    "cnn.add(MaxPooling2D((2,2)))\n",
    "\n",
    "cnn.add(Dropout(0.2))\n",
    "\n",
    "cnn.add(Conv2D(filters = 64,\n",
    "              kernel_size = (3,3),\n",
    "              activation = \"relu\",\n",
    "              padding = \"same\"))\n",
    "\n",
    "cnn.add(BatchNormalization())\n",
    "\n",
    "cnn.add(Conv2D(filters = 64,\n",
    "              kernel_size = (3,3),\n",
    "              activation = \"relu\",\n",
    "              padding = \"same\"))\n",
    "\n",
    "cnn.add(BatchNormalization())\n",
    "\n",
    "cnn.add(MaxPooling2D((2,2)))\n",
    "\n",
    "cnn.add(Dropout(0.2))\n",
    "\n",
    "cnn.add(Conv2D(filters = 128,\n",
    "              kernel_size = (3,3),\n",
    "              activation = \"relu\",\n",
    "              padding = \"same\"))\n",
    "\n",
    "cnn.add(BatchNormalization())\n",
    "\n",
    "cnn.add(Conv2D(filters = 128,\n",
    "              kernel_size = (2,2),\n",
    "              activation = \"relu\",\n",
    "              padding = \"same\"))\n",
    "\n",
    "cnn.add(BatchNormalization())\n",
    "\n",
    "cnn.add(MaxPooling2D((2,2)))\n",
    "\n",
    "cnn.add(Dropout(0.2))\n",
    "\n",
    "cnn.add(Flatten())\n",
    "\n",
    "cnn.add(Dense(units = 128,\n",
    "             activation = \"relu\"))\n",
    "\n",
    "cnn.add(BatchNormalization())\n",
    "\n",
    "cnn.add(Dropout(0.2))\n",
    "\n",
    "cnn.add(Dense(units = 10,\n",
    "             activation = \"softmax\"))\n"
   ]
  },
  {
   "cell_type": "code",
   "execution_count": null,
   "id": "f8e77511",
   "metadata": {},
   "outputs": [
    {
     "name": "stdout",
     "output_type": "stream",
     "text": [
      "Epoch 1/100\n"
     ]
    },
    {
     "name": "stderr",
     "output_type": "stream",
     "text": [
      "C:\\Users\\Niki\\AppData\\Local\\Temp\\ipykernel_22400\\204226738.py:3: UserWarning: `Model.fit_generator` is deprecated and will be removed in a future version. Please use `Model.fit`, which supports generators.\n",
      "  history = cnn.fit_generator(train_set, epochs = 100, steps_per_epoch = int(x_train.shape[0]/64), validation_data = (x_test,y_test))\n"
     ]
    },
    {
     "name": "stdout",
     "output_type": "stream",
     "text": [
      "781/781 [==============================] - 101s 127ms/step - loss: 1.7291 - accuracy: 0.3568 - val_loss: 364.1708 - val_accuracy: 0.0397\n",
      "Epoch 2/100\n",
      "781/781 [==============================] - 109s 139ms/step - loss: 1.3177 - accuracy: 0.5246 - val_loss: 239.0836 - val_accuracy: 0.0821\n",
      "Epoch 3/100\n",
      "781/781 [==============================] - 113s 145ms/step - loss: 1.1441 - accuracy: 0.5917 - val_loss: 210.8365 - val_accuracy: 0.0921\n",
      "Epoch 4/100\n",
      "781/781 [==============================] - 118s 151ms/step - loss: 1.0214 - accuracy: 0.6388 - val_loss: 246.7682 - val_accuracy: 0.0895\n",
      "Epoch 5/100\n",
      "781/781 [==============================] - 116s 149ms/step - loss: 0.9385 - accuracy: 0.6703 - val_loss: 398.0330 - val_accuracy: 0.0895\n",
      "Epoch 6/100\n",
      "781/781 [==============================] - 112s 144ms/step - loss: 0.8778 - accuracy: 0.6905 - val_loss: 396.8253 - val_accuracy: 0.0854\n",
      "Epoch 7/100\n",
      "781/781 [==============================] - 112s 144ms/step - loss: 0.8332 - accuracy: 0.7095 - val_loss: 318.7314 - val_accuracy: 0.0926\n",
      "Epoch 8/100\n",
      "781/781 [==============================] - 113s 144ms/step - loss: 0.8063 - accuracy: 0.7191 - val_loss: 423.2109 - val_accuracy: 0.0899\n",
      "Epoch 9/100\n",
      "781/781 [==============================] - 112s 144ms/step - loss: 0.7779 - accuracy: 0.7288 - val_loss: 291.9474 - val_accuracy: 0.0939\n",
      "Epoch 10/100\n",
      "781/781 [==============================] - 114s 146ms/step - loss: 0.7575 - accuracy: 0.7376 - val_loss: 394.9298 - val_accuracy: 0.0847\n",
      "Epoch 11/100\n",
      "781/781 [==============================] - 114s 145ms/step - loss: 0.7345 - accuracy: 0.7458 - val_loss: 347.9214 - val_accuracy: 0.0880\n",
      "Epoch 12/100\n",
      "781/781 [==============================] - 114s 146ms/step - loss: 0.7173 - accuracy: 0.7505 - val_loss: 239.6025 - val_accuracy: 0.0909\n",
      "Epoch 13/100\n",
      "781/781 [==============================] - 115s 147ms/step - loss: 0.7036 - accuracy: 0.7587 - val_loss: 399.7621 - val_accuracy: 0.0888\n",
      "Epoch 14/100\n",
      "781/781 [==============================] - 114s 146ms/step - loss: 0.6895 - accuracy: 0.7625 - val_loss: 470.4631 - val_accuracy: 0.0871\n",
      "Epoch 15/100\n",
      "781/781 [==============================] - 114s 146ms/step - loss: 0.6682 - accuracy: 0.7703 - val_loss: 395.2952 - val_accuracy: 0.0858\n",
      "Epoch 16/100\n",
      "781/781 [==============================] - 115s 147ms/step - loss: 0.6622 - accuracy: 0.7715 - val_loss: 561.2571 - val_accuracy: 0.0826\n",
      "Epoch 17/100\n",
      "781/781 [==============================] - 115s 147ms/step - loss: 0.6546 - accuracy: 0.7726 - val_loss: 402.0388 - val_accuracy: 0.0893\n",
      "Epoch 18/100\n",
      "781/781 [==============================] - 114s 147ms/step - loss: 0.6433 - accuracy: 0.7804 - val_loss: 529.8730 - val_accuracy: 0.0849\n",
      "Epoch 19/100\n",
      "781/781 [==============================] - 115s 147ms/step - loss: 0.6308 - accuracy: 0.7819 - val_loss: 456.4037 - val_accuracy: 0.0834\n",
      "Epoch 20/100\n",
      "781/781 [==============================] - 115s 147ms/step - loss: 0.6234 - accuracy: 0.7846 - val_loss: 476.9528 - val_accuracy: 0.0942\n",
      "Epoch 21/100\n",
      "781/781 [==============================] - 116s 148ms/step - loss: 0.6173 - accuracy: 0.7876 - val_loss: 329.2245 - val_accuracy: 0.0939\n",
      "Epoch 22/100\n",
      "781/781 [==============================] - 117s 149ms/step - loss: 0.6149 - accuracy: 0.7881 - val_loss: 467.9630 - val_accuracy: 0.0884\n",
      "Epoch 23/100\n",
      "781/781 [==============================] - 114s 145ms/step - loss: 0.6006 - accuracy: 0.7911 - val_loss: 408.7946 - val_accuracy: 0.0830\n",
      "Epoch 24/100\n",
      "781/781 [==============================] - 121s 155ms/step - loss: 0.6005 - accuracy: 0.7906 - val_loss: 412.0817 - val_accuracy: 0.0760\n",
      "Epoch 25/100\n",
      "781/781 [==============================] - 119s 152ms/step - loss: 0.5916 - accuracy: 0.7944 - val_loss: 488.1440 - val_accuracy: 0.0851\n",
      "Epoch 26/100\n",
      "781/781 [==============================] - 120s 153ms/step - loss: 0.5932 - accuracy: 0.7977 - val_loss: 554.1895 - val_accuracy: 0.0827\n",
      "Epoch 27/100\n",
      "781/781 [==============================] - 116s 148ms/step - loss: 0.5832 - accuracy: 0.8006 - val_loss: 556.4477 - val_accuracy: 0.0836\n",
      "Epoch 28/100\n",
      "781/781 [==============================] - 117s 150ms/step - loss: 0.5740 - accuracy: 0.8024 - val_loss: 440.0201 - val_accuracy: 0.0910\n",
      "Epoch 29/100\n",
      "781/781 [==============================] - 116s 149ms/step - loss: 0.5722 - accuracy: 0.8030 - val_loss: 652.1276 - val_accuracy: 0.0832\n",
      "Epoch 30/100\n",
      "781/781 [==============================] - 123s 158ms/step - loss: 0.5694 - accuracy: 0.8048 - val_loss: 511.3683 - val_accuracy: 0.0784\n",
      "Epoch 31/100\n",
      "781/781 [==============================] - 118s 151ms/step - loss: 0.5650 - accuracy: 0.8043 - val_loss: 510.1615 - val_accuracy: 0.0833\n",
      "Epoch 32/100\n",
      "725/781 [==========================>...] - ETA: 8s - loss: 0.5616 - accuracy: 0.8067"
     ]
    }
   ],
   "source": [
    "cnn.compile(optimizer = \"adam\", loss = \"sparse_categorical_crossentropy\", metrics = [\"accuracy\"])\n",
    "\n",
    "history = cnn.fit_generator(train_set, epochs = 100, steps_per_epoch = int(x_train.shape[0]/64), validation_data = (x_test,y_test))"
   ]
  },
  {
   "cell_type": "code",
   "execution_count": null,
   "id": "8624a663",
   "metadata": {},
   "outputs": [],
   "source": [
    "cnn.summary()"
   ]
  },
  {
   "cell_type": "code",
   "execution_count": null,
   "id": "12fea9db",
   "metadata": {},
   "outputs": [],
   "source": [
    "ta = history.history[\"accuracy\"]\n",
    "va = history.history[\"val_accuracy\"]\n",
    "\n",
    "plt.plot(ta, \"blue\" , label = \"train set\")\n",
    "plt.plot(va, \"red\", label = \"validation set\")\n",
    "plt.title(\"Comparison of accuracy in training and validation set\")\n",
    "plt.xlabel(\"epochs\")\n",
    "plt.ylabel(\"Accuracy\")\n",
    "plt.legend()"
   ]
  },
  {
   "cell_type": "code",
   "execution_count": null,
   "id": "b37d31ed",
   "metadata": {},
   "outputs": [],
   "source": [
    "tl = history.history[\"loss\"]\n",
    "va = history.history[\"val_loss\"]\n",
    "\n",
    "plt.plot(tl, \"blue\" , label = \"train set\")\n",
    "plt.plot(tl, \"blue\", label = \"val set\")\n",
    "plt.title(\"Comparison of loss in training set and validation set\")\n",
    "plt.xlabel(\"epochs\")\n",
    "plt.ylabel(\"Loss\")\n",
    "plt.legend()"
   ]
  },
  {
   "cell_type": "code",
   "execution_count": null,
   "id": "e04f1010",
   "metadata": {},
   "outputs": [],
   "source": []
  }
 ],
 "metadata": {
  "kernelspec": {
   "display_name": "Python 3 (ipykernel)",
   "language": "python",
   "name": "python3"
  },
  "language_info": {
   "codemirror_mode": {
    "name": "ipython",
    "version": 3
   },
   "file_extension": ".py",
   "mimetype": "text/x-python",
   "name": "python",
   "nbconvert_exporter": "python",
   "pygments_lexer": "ipython3",
   "version": "3.9.13"
  }
 },
 "nbformat": 4,
 "nbformat_minor": 5
}
